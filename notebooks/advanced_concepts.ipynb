{
 "cells": [
  {
   "cell_type": "markdown",
   "id": "7375d0b9-abca-47cc-aaee-0d21105ee584",
   "metadata": {},
   "source": [
    "### Janossy Pooling"
   ]
  },
  {
   "cell_type": "code",
   "execution_count": 3,
   "id": "c8e5c840-6d12-4989-9aeb-0eded25688f0",
   "metadata": {},
   "outputs": [],
   "source": [
    "#TODO"
   ]
  }
 ],
 "metadata": {
  "kernelspec": {
   "display_name": "Python 3",
   "language": "python",
   "name": "python3"
  },
  "language_info": {
   "codemirror_mode": {
    "name": "ipython",
    "version": 3
   },
   "file_extension": ".py",
   "mimetype": "text/x-python",
   "name": "python",
   "nbconvert_exporter": "python",
   "pygments_lexer": "ipython3",
   "version": "3.9.1"
  },
  "vscode": {
   "interpreter": {
    "hash": "49cf707a312cc6b0594086e693dcab12c295d73d3b84d0e4aafb7481ec60bf5c"
   }
  }
 },
 "nbformat": 4,
 "nbformat_minor": 5
}
