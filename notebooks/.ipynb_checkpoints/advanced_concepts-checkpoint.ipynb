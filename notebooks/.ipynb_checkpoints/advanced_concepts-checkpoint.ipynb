{
 "cells": [
  {
   "cell_type": "markdown",
   "id": "7375d0b9-abca-47cc-aaee-0d21105ee584",
   "metadata": {},
   "source": [
    "### Janossy Pooling"
   ]
  },
  {
   "cell_type": "code",
   "execution_count": null,
   "id": "c8e5c840-6d12-4989-9aeb-0eded25688f0",
   "metadata": {},
   "outputs": [],
   "source": []
  }
 ],
 "metadata": {
  "kernelspec": {
   "display_name": "Python 3 (ipykernel)",
   "language": "python",
   "name": "python3"
  },
  "language_info": {
   "codemirror_mode": {
    "name": "ipython",
    "version": 3
   },
   "file_extension": ".py",
   "mimetype": "text/x-python",
   "name": "python",
   "nbconvert_exporter": "python",
   "pygments_lexer": "ipython3",
   "version": "3.9.1"
  }
 },
 "nbformat": 4,
 "nbformat_minor": 5
}
